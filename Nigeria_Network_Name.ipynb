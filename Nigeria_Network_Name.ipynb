{
 "cells": [
  {
   "cell_type": "code",
   "execution_count": 1,
   "metadata": {},
   "outputs": [],
   "source": [
    "import pandas as pd, base64\n",
    "from ipywidgets import widgets, VBox\n",
    "from ipywidgets import HTML\n",
    "output = widgets.Output()"
   ]
  },
  {
   "cell_type": "code",
   "execution_count": 2,
   "metadata": {},
   "outputs": [],
   "source": [
    "button = widgets.FileUpload()\n",
    "column = widgets.Text()"
   ]
  },
  {
   "cell_type": "code",
   "execution_count": 3,
   "metadata": {},
   "outputs": [],
   "source": [
    "new_button = widgets.Button(description = 'Run')"
   ]
  },
  {
   "cell_type": "code",
   "execution_count": 4,
   "metadata": {},
   "outputs": [],
   "source": [
    "@output.capture(clear_output=False,wait=True)\n",
    "def on_click_csv(change):\n",
    "    print('Starting File Processing ...')\n",
    "    filename = button.metadata[-1]['name']\n",
    "    file_extension = filename.split('.')[-1]\n",
    "    \n",
    "    column_name = column.get_interact_value()\n",
    "    \n",
    "    excel = ['xls', 'xlsx', 'xlsm', 'xlsb', 'odf']\n",
    "    \n",
    "    if file_extension in excel:\n",
    "        df = pd.read_excel(button.data[-1])\n",
    "    else:\n",
    "        df = pd.read_csv(button.data[-1])\n",
    "    \n",
    "    \n",
    "    mtn = ['0803','0806','0703','0706','0813','0816','0810','0814','0903', '0906']\n",
    "    glo = ['0805','0807','0705','0815','0811','0905']\n",
    "    airtel = ['0802','0708','0704','0812','0701','0902', '0907', '0808', '0901', '0904']\n",
    "    etisalat = ['0809', '0818','0817','0909', '0908']\n",
    "    ntel = ['0804']\n",
    "    smile =  ['0702']\n",
    "    starcoms = ['07028','07029','0819']\n",
    "    zoom = ['0707']\n",
    "    multilinks = ['07027','0709']\n",
    "    \n",
    "    df[column_name] = df[column_name].astype('str')\n",
    "    df[column_name] = df[column_name].str.strip(' ')\n",
    "    df['number'] = df[column_name].str.replace('234', '0', 1)\n",
    "\n",
    "    df.loc[df['number'].str[:4].isin(mtn), 'Network Name'] = 'MTN Nigeria'\n",
    "    df.loc[df['number'].str[:4].isin(glo), 'Network Name'] = 'Glo Mobile (Globacom Ltd)'\n",
    "    df.loc[df['number'].str[:4].isin(airtel), 'Network Name'] = 'Airtel Nigeria'\n",
    "    df.loc[df['number'].str[:4].isin(etisalat), 'Network Name'] = '9mobile (Etisalat)'\n",
    "    df.loc[df['number'].str[:4].isin(ntel), 'Network Name'] = 'NTel GSM (fka M-Tel)'\n",
    "    df.loc[df['number'].str[:4].isin(zoom), 'Network Name'] = 'ZOOMmobile (CDMA) (not in use)'\n",
    "    df.loc[df['number'].str[:5].isin(starcoms), 'Network Name'] = 'Starcomms PLC (CDMA) (not in use)'\n",
    "    df.loc[df['number'].str[:4].isin(starcoms), 'Network Name'] = 'Starcomms PLC (CDMA) (not in use)'\n",
    "    df.loc[df['number'].str[:5].isin(multilinks), 'Network Name'] = 'Multi-links Telecommunications Ltd (CDMA) (not in use)'\n",
    "    df.loc[df['number'].str[:4].isin(multilinks), 'Network Name'] = 'Multi-links Telecommunications Ltd (CDMA) (not in use)'\n",
    "    df.loc[df['number'].str[:4].isin(smile), 'Network Name'] = 'Smile Communications'\n",
    "    df.loc[df['Network Name'].isnull(), 'Network Name'] = 'Unknown Network'\n",
    "    df.drop('number', axis=1, inplace=True)\n",
    "    \n",
    "    csv = df.to_csv(index=False)\n",
    "    b64 = base64.b64encode(csv.encode())\n",
    "    payload = b64.decode()\n",
    "    html_buttons = '''\n",
    "    <html>\n",
    "    <head>\n",
    "    <meta name=\"viewport\" content=\"width=device-width, initial-scale=1\">\n",
    "    </head>\n",
    "    <body>\n",
    "    <a download=\"{filename}\" href=\"data:text/csv;base64,{payload}\" download>\n",
    "    <button class=\"p-Widget jupyter-widgets jupyter-button widget-button mod-warning\">Download File</button>\n",
    "    </a>\n",
    "    </body>\n",
    "    </html>\n",
    "    '''\n",
    "    \n",
    "    output = filename.split('.')[0]\n",
    "    html_button = html_buttons.format(payload=payload,filename=f'{output}_NetworName.csv')\n",
    "    display(HTML(html_button))"
   ]
  },
  {
   "cell_type": "code",
   "execution_count": 5,
   "metadata": {},
   "outputs": [],
   "source": [
    "new_button.on_click(on_click_csv)"
   ]
  },
  {
   "cell_type": "code",
   "execution_count": 6,
   "metadata": {},
   "outputs": [
    {
     "data": {
      "application/vnd.jupyter.widget-view+json": {
       "model_id": "52129358f1b24c8c94ba9af0875313d0",
       "version_major": 2,
       "version_minor": 0
      },
      "text/plain": [
       "VBox(children=(Label(value='Select Your File'), FileUpload(value={}, description='Upload'), Label(value='Type …"
      ]
     },
     "metadata": {},
     "output_type": "display_data"
    },
    {
     "name": "stdout",
     "output_type": "stream",
     "text": [
      "Starting File Processing ...\n",
      "xlsx\n",
      "msisdn\n",
      "<bound method NDFrame.head of            id         msisdn  \\\n",
      "0      611562  2348066451010   \n",
      "1      611561  2348066451010   \n",
      "2      611560  2349066779628   \n",
      "3      611559  2349066779628   \n",
      "4      611558  2348035255078   \n",
      "...       ...            ...   \n",
      "13821  597240  2348024272602   \n",
      "13822  597239  2348033042139   \n",
      "13823  597238  2348033042139   \n",
      "13824  597237  2348037054758   \n",
      "13825  597236  2348037054758   \n",
      "\n",
      "                                                 message header     provider  \\\n",
      "0      Dear CYRIACUS ARINZE .C.,\\nOKEOLU ST 10 LAWANS...  EKEDP  INTERSWITCH   \n",
      "1      Dear CYRIACUS ARINZE .C.,\\nOKEOLU ST 10 LAWANS...  EKEDP  INTERSWITCH   \n",
      "2      Dear ZENITH BANK PLC,\\nFUNSHO WILLIAMS AVE 37/...  EKEDP  INTERSWITCH   \n",
      "3      Dear ZENITH BANK PLC,\\nFUNSHO WILLIAMS AVE 37/...  EKEDP  INTERSWITCH   \n",
      "4      Dear RCCG,\\n15 CARDOSO ST,MUSHIN/9049906782-01...  EKEDP  INTERSWITCH   \n",
      "...                                                  ...    ...          ...   \n",
      "13821  Dear N C R,\\nBROAD ST 6/0114920062-01\\nYour bi...  EKEDP  INTERSWITCH   \n",
      "13822  Dear FED DENTAL CENTRE,\\nBROAD ST 1/0114920053...  EKEDP  INTERSWITCH   \n",
      "13823  Dear FED DENTAL CENTRE,\\nBROAD ST 1/0114920053...  EKEDP  INTERSWITCH   \n",
      "13824  Dear NIG EXTENAL TELTCOM,\\nMARINA ST 15/011492...  EKEDP  INTERSWITCH   \n",
      "13825  Dear NIG EXTENAL TELTCOM,\\nMARINA ST 15/011492...  EKEDP  INTERSWITCH   \n",
      "\n",
      "         status      batch_id          create_date     ticket_id  \\\n",
      "0      ACCEPTED  1.605603e+12  2020-11-17 09:50:37  2.002020e+22   \n",
      "1      ACCEPTED  1.605603e+12  2020-11-17 09:50:37  2.002020e+22   \n",
      "2      ACCEPTED  1.605603e+12  2020-11-17 09:50:37  2.002020e+22   \n",
      "3      ACCEPTED  1.605603e+12  2020-11-17 09:50:37  2.002020e+22   \n",
      "4      ACCEPTED  1.605603e+12  2020-11-17 09:50:37  2.002020e+22   \n",
      "...         ...           ...                  ...           ...   \n",
      "13821  ACCEPTED  1.605601e+12  2020-11-17 09:21:43  2.002020e+22   \n",
      "13822  ACCEPTED  1.605601e+12  2020-11-17 09:21:43  2.002020e+22   \n",
      "13823  ACCEPTED  1.605601e+12  2020-11-17 09:21:43  2.002020e+22   \n",
      "13824  ACCEPTED  1.605601e+12  2020-11-17 09:21:43  2.002020e+22   \n",
      "13825  ACCEPTED  1.605601e+12  2020-11-17 09:21:43  2.002020e+22   \n",
      "\n",
      "      ticket_status  final_status             updated    Network Name  \n",
      "0         DELIVERED           1.0 2020-11-17 10:39:02     MTN Nigeria  \n",
      "1         DELIVERED           1.0 2020-11-17 10:39:02     MTN Nigeria  \n",
      "2         DELIVERED           1.0 2020-11-17 10:39:02     MTN Nigeria  \n",
      "3         DELIVERED           1.0 2020-11-17 10:39:02     MTN Nigeria  \n",
      "4         DELIVERED           1.0 2020-11-17 10:39:02     MTN Nigeria  \n",
      "...             ...           ...                 ...             ...  \n",
      "13821       ENROUTE           0.0 2020-11-17 09:21:51  Airtel Nigeria  \n",
      "13822     DELIVERED           1.0 2020-11-17 09:21:51     MTN Nigeria  \n",
      "13823     DELIVERED           1.0 2020-11-17 09:21:51     MTN Nigeria  \n",
      "13824     DELIVERED           1.0 2020-11-17 09:21:51     MTN Nigeria  \n",
      "13825     DELIVERED           1.0 2020-11-17 09:21:51     MTN Nigeria  \n",
      "\n",
      "[13826 rows x 13 columns]>\n"
     ]
    },
    {
     "data": {
      "application/vnd.jupyter.widget-view+json": {
       "model_id": "4982dcbfe18c4412a452f36564981cee",
       "version_major": 2,
       "version_minor": 0
      },
      "text/plain": [
       "HTML(value='\\n    <html>\\n    <head>\\n    <meta name=\"viewport\" content=\"width=device-width, initial-scale=1\">…"
      ]
     },
     "metadata": {},
     "output_type": "display_data"
    }
   ],
   "source": [
    "VBox([widgets.Label('Select Your File'),\n",
    "      button,\n",
    "      widgets.Label('Type your Column Name'),\n",
    "      column,\n",
    "    new_button\n",
    "     ])"
   ]
  },
  {
   "cell_type": "code",
   "execution_count": null,
   "metadata": {},
   "outputs": [],
   "source": [
    "output"
   ]
  },
  {
   "cell_type": "code",
   "execution_count": null,
   "metadata": {},
   "outputs": [],
   "source": []
  }
 ],
 "metadata": {
  "kernelspec": {
   "display_name": "Python 3",
   "language": "python",
   "name": "python3"
  },
  "language_info": {
   "codemirror_mode": {
    "name": "ipython",
    "version": 3
   },
   "file_extension": ".py",
   "mimetype": "text/x-python",
   "name": "python",
   "nbconvert_exporter": "python",
   "pygments_lexer": "ipython3",
   "version": "3.7.1"
  }
 },
 "nbformat": 4,
 "nbformat_minor": 2
}
